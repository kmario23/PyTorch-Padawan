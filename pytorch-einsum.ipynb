{
 "cells": [
  {
   "cell_type": "markdown",
   "metadata": {},
   "source": [
    "$\\color{brown}{Preamble}$: At the time of this writing, I'm using **PyTorch** **`v1.7.1`** binded with **`cuda11.0`** and **`cudnn8.0`**."
   ]
  },
  {
   "cell_type": "code",
   "execution_count": 1,
   "metadata": {},
   "outputs": [],
   "source": [
    "import numpy as np\n",
    "import torch"
   ]
  },
  {
   "cell_type": "code",
   "execution_count": 6,
   "metadata": {},
   "outputs": [
    {
     "name": "stdout",
     "output_type": "stream",
     "text": [
      "version:  1.7.1\n",
      "device :  cuda\n"
     ]
    }
   ],
   "source": [
    "print(\"version: \", torch.__version__)\n",
    "mydevice = torch.device(\"cuda\" if torch.cuda.is_available() else \"cpu\")\n",
    "print(\"device : \", mydevice)"
   ]
  },
  {
   "cell_type": "markdown",
   "metadata": {},
   "source": [
    "## Einstein Summation (einsum)"
   ]
  },
  {
   "cell_type": "markdown",
   "metadata": {},
   "source": [
    "Einsum is a powerful concept for processing tensors while at the same time writing very succinct code. The reasons to adopt **_einsum_** are:\n",
    "\n",
    "  - code is usually one-liner\n",
    "  - it's memory efficient\n",
    "  - less error prone\n",
    "  \n",
    "Let us now see some sample problems to fully grasp the power of einsum."
   ]
  },
  {
   "cell_type": "code",
   "execution_count": 12,
   "metadata": {},
   "outputs": [],
   "source": [
    "# input tensors to work with\n",
    "\n",
    "vec = torch.tensor([0, 1, 2, 3])\n",
    "\n",
    "aten = torch.tensor([[11, 12, 13, 14],\n",
    "                     [21, 22, 23, 24],\n",
    "                     [31, 32, 33, 34],\n",
    "                     [41, 42, 43, 44]])\n",
    "\n",
    "bten = torch.tensor([[1, 1, 1, 1],\n",
    "                     [2, 2, 2, 2],\n",
    "                     [3, 3, 3, 3],\n",
    "                     [4, 4, 4, 4]])\n"
   ]
  },
  {
   "cell_type": "code",
   "execution_count": null,
   "metadata": {},
   "outputs": [],
   "source": []
  },
  {
   "cell_type": "code",
   "execution_count": null,
   "metadata": {},
   "outputs": [],
   "source": []
  },
  {
   "cell_type": "code",
   "execution_count": null,
   "metadata": {},
   "outputs": [],
   "source": []
  },
  {
   "cell_type": "code",
   "execution_count": null,
   "metadata": {},
   "outputs": [],
   "source": []
  }
 ],
 "metadata": {
  "kernelspec": {
   "display_name": "Python 3",
   "language": "python",
   "name": "python3"
  },
  "language_info": {
   "codemirror_mode": {
    "name": "ipython",
    "version": 3
   },
   "file_extension": ".py",
   "mimetype": "text/x-python",
   "name": "python",
   "nbconvert_exporter": "python",
   "pygments_lexer": "ipython3",
   "version": "3.7.3"
  }
 },
 "nbformat": 4,
 "nbformat_minor": 4
}
