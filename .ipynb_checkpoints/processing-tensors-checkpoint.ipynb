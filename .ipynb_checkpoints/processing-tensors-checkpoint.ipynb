{
 "cells": [
  {
   "cell_type": "markdown",
   "metadata": {},
   "source": [
    "$\\color{green}{Note}$: I'm using the following version of **PyTorch** which is **`v1.3.1`** at the time of this writing."
   ]
  },
  {
   "cell_type": "code",
   "execution_count": 1,
   "metadata": {},
   "outputs": [
    {
     "name": "stdout",
     "output_type": "stream",
     "text": [
      "1.3.1\n"
     ]
    }
   ],
   "source": [
    "import torch\n",
    "print(torch.__version__)"
   ]
  },
  {
   "cell_type": "markdown",
   "metadata": {},
   "source": [
    "## $\\color{violet}{Maximum \\hspace{0.3em} and \\hspace{0.3em} Minimum \\hspace{0.3em} Values}$"
   ]
  },
  {
   "cell_type": "markdown",
   "metadata": {},
   "source": [
    "$\\color{red}{Question}$: Finding the positions (i.e. indices) of `n` maximum values in a tensor."
   ]
  },
  {
   "cell_type": "code",
   "execution_count": 4,
   "metadata": {},
   "outputs": [
    {
     "name": "stdout",
     "output_type": "stream",
     "text": [
      "tensor([41, 46, 16, 47, 30, 12, 27, 41,  4, 27, 15, 46])\n"
     ]
    }
   ],
   "source": [
    "# for reproducibility\n",
    "myseed = 23\n",
    "torch.manual_seed(myseed)\n",
    "\n",
    "# sample tensor to work with\n",
    "t = torch.randint(low=0, high=50, size=(12,))\n",
    "print(t)"
   ]
  },
  {
   "cell_type": "markdown",
   "metadata": {},
   "source": [
    "Given the above tensor, now we have to find the positions in the tensor `t` that corresponds to the `howmany_max` maximum values."
   ]
  },
  {
   "cell_type": "code",
   "execution_count": 17,
   "metadata": {},
   "outputs": [
    {
     "data": {
      "text/plain": [
       "tensor([47, 46, 46, 41, 41])"
      ]
     },
     "execution_count": 17,
     "metadata": {},
     "output_type": "execute_result"
    }
   ],
   "source": [
    "howmany_max = 5\n",
    "\n",
    "# gives the indices of values in increasing (i.e. ascending) order\n",
    "idxs_asc = t.argsort()\n",
    "\n",
    "# since we want the indices of maximum values, let's use the boolean flag `descending=True`\n",
    "idxs_desc = t.argsort(descending=True)\n",
    "\n",
    "# alternatively, use this:\n",
    "# idxs_desc = torch.flip(t.argsort(), dims=(-1,))\n",
    "\n",
    "# get the values by indexing into the original tensor\n",
    "t[idxs_desc[:howmany_max]]"
   ]
  },
  {
   "cell_type": "markdown",
   "metadata": {},
   "source": [
    "As we can see frpm the above result, we get duplicate values in the result tensor. This is because our original tensor contains duplicate entries. In such scenarios, PyTorch `argsort` randomly orders the positions (indices) of duplicated entries, both when using `descending=True` and `descending=False`."
   ]
  },
  {
   "cell_type": "markdown",
   "metadata": {},
   "source": [
    "---"
   ]
  },
  {
   "cell_type": "markdown",
   "metadata": {},
   "source": [
    "$\\color{red}{Question}$: Finding the positions (i.e. indices) of `n` minimum values in a tensor."
   ]
  },
  {
   "cell_type": "code",
   "execution_count": 14,
   "metadata": {},
   "outputs": [
    {
     "data": {
      "text/plain": [
       "tensor([ 4, 12, 15, 16, 27])"
      ]
     },
     "execution_count": 14,
     "metadata": {},
     "output_type": "execute_result"
    }
   ],
   "source": [
    "howmany_min = 5\n",
    "\n",
    "# since we want indices of minimum values, we don't have to set the boolean flag `descending=True`\n",
    "idxs_asc = t.argsort()\n",
    "\n",
    "# get the values by indexing into the original tensor\n",
    "t[idxs_asc[:howmany_min]]"
   ]
  },
  {
   "cell_type": "markdown",
   "metadata": {},
   "source": [
    "---"
   ]
  },
  {
   "cell_type": "code",
   "execution_count": null,
   "metadata": {},
   "outputs": [],
   "source": []
  }
 ],
 "metadata": {
  "kernelspec": {
   "display_name": "Python 3",
   "language": "python",
   "name": "python3"
  },
  "language_info": {
   "codemirror_mode": {
    "name": "ipython",
    "version": 3
   },
   "file_extension": ".py",
   "mimetype": "text/x-python",
   "name": "python",
   "nbconvert_exporter": "python",
   "pygments_lexer": "ipython3",
   "version": "3.7.3"
  }
 },
 "nbformat": 4,
 "nbformat_minor": 4
}
